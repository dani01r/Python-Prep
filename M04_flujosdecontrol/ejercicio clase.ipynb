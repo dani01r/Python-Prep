{
 "cells": [
  {
   "cell_type": "code",
   "execution_count": 6,
   "metadata": {},
   "outputs": [
    {
     "name": "stdout",
     "output_type": "stream",
     "text": [
      "a es mayor que b\n"
     ]
    }
   ],
   "source": [
    "a=8.5\n",
    "b=7\n",
    "if a>b:\n",
    "    print(\"a es mayor que b\")\n",
    "elif a<b:\n",
    "    print(\"b es mayor que a\")\n",
    "else:\n",
    "    print(\"a y b son iguales\")\n"
   ]
  },
  {
   "cell_type": "code",
   "execution_count": null,
   "metadata": {},
   "outputs": [
    {
     "name": "stdout",
     "output_type": "stream",
     "text": [
      "s0y menor\n"
     ]
    }
   ],
   "source": [
    "num=5\n",
    "if num>8:\n",
    "    print(\"soy mayor\")\n",
    "elif num<8:\n",
    "    print(\"s0y menor\")\n",
    "else:\n",
    "    print(\"son iguales\")\n"
   ]
  }
 ],
 "metadata": {
  "kernelspec": {
   "display_name": "Python 3",
   "language": "python",
   "name": "python3"
  },
  "language_info": {
   "codemirror_mode": {
    "name": "ipython",
    "version": 3
   },
   "file_extension": ".py",
   "mimetype": "text/x-python",
   "name": "python",
   "nbconvert_exporter": "python",
   "pygments_lexer": "ipython3",
   "version": "3.12.0"
  }
 },
 "nbformat": 4,
 "nbformat_minor": 2
}
