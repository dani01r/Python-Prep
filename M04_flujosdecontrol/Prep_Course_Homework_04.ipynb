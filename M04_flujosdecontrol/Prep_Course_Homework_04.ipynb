{
 "cells": [
  {
   "attachments": {},
   "cell_type": "markdown",
   "metadata": {},
   "source": [
    "## Flujos de Control"
   ]
  },
  {
   "attachments": {},
   "cell_type": "markdown",
   "metadata": {},
   "source": [
    "1) Crear una variable que contenga un elemento del conjunto de números enteros y luego imprimir por pantalla si es mayor o menor a cero"
   ]
  },
  {
   "cell_type": "code",
   "execution_count": 6,
   "metadata": {},
   "outputs": [
    {
     "name": "stdout",
     "output_type": "stream",
     "text": [
      "la variable es mayor que cero\n"
     ]
    }
   ],
   "source": [
    "b = 5\n",
    "if (b>0):\n",
    "    print(\"la variable es mayor que cero\")\n",
    "elif (b<0):\n",
    "    print(\"la variable es menor que cero\")\n",
    "else:\n",
    "    print(\"la variable es igual a cero\")"
   ]
  },
  {
   "attachments": {},
   "cell_type": "markdown",
   "metadata": {},
   "source": [
    "2) Crear dos variables y un condicional que informe si son del mismo tipo de dato"
   ]
  },
  {
   "cell_type": "code",
   "execution_count": 13,
   "metadata": {},
   "outputs": [
    {
     "name": "stdout",
     "output_type": "stream",
     "text": [
      "las variables son de diferente tipo\n"
     ]
    }
   ],
   "source": [
    "a=5\n",
    "b=\"5\"\n",
    "if (type(a)==type(b)):\n",
    "    print(\"las variables son del mismo tipo\")\n",
    "else:\n",
    "    print(\"las variables son de diferente tipo\")"
   ]
  },
  {
   "attachments": {},
   "cell_type": "markdown",
   "metadata": {},
   "source": [
    "3) Para los valores enteros del 1 al 20, imprimir por pantalla si es par o impar"
   ]
  },
  {
   "cell_type": "code",
   "execution_count": 19,
   "metadata": {},
   "outputs": [
    {
     "name": "stdout",
     "output_type": "stream",
     "text": [
      " el numero 1 es impar\n",
      " el numero 2 es par\n",
      " el numero 3 es impar\n",
      " el numero 4 es par\n",
      " el numero 5 es impar\n",
      " el numero 6 es par\n",
      " el numero 7 es impar\n",
      " el numero 8 es par\n",
      " el numero 9 es impar\n",
      " el numero 10 es par\n",
      " el numero 11 es impar\n",
      " el numero 12 es par\n",
      " el numero 13 es impar\n",
      " el numero 14 es par\n",
      " el numero 15 es impar\n",
      " el numero 16 es par\n",
      " el numero 17 es impar\n",
      " el numero 18 es par\n",
      " el numero 19 es impar\n",
      " el numero 20 es par\n"
     ]
    }
   ],
   "source": [
    "for num in range(1,21):\n",
    "    if num % 2 ==0:\n",
    "        print(\" el numero\", str(num), \"es par\")\n",
    "    else:\n",
    "        print(\" el numero\", str(num),\"es impar\")"
   ]
  },
  {
   "cell_type": "code",
   "execution_count": 34,
   "metadata": {},
   "outputs": [
    {
     "name": "stdout",
     "output_type": "stream",
     "text": [
      "el numero 1 es impar\n",
      "el numero 2 es par\n",
      "el numero 3 es impar\n",
      "el numero 4 es par\n",
      "el numero 5 es impar\n",
      "el numero 6 es par\n",
      "el numero 7 es impar\n",
      "el numero 8 es par\n",
      "el numero 9 es impar\n",
      "el numero 10 es par\n",
      "el numero 11 es impar\n",
      "el numero 12 es par\n",
      "el numero 13 es impar\n",
      "el numero 14 es par\n",
      "el numero 15 es impar\n",
      "el numero 16 es par\n",
      "el numero 17 es impar\n",
      "el numero 18 es par\n",
      "el numero 19 es impar\n",
      "el numero 20 es par\n"
     ]
    }
   ],
   "source": [
    "x = 1\n",
    "while (x <= 20):\n",
    "    if (x % 2 == 0):\n",
    "        print(f\"el numero {x} es par\")\n",
    "    else:\n",
    "        print(f\"el numero {x} es impar\")\n",
    "    x = x + 1"
   ]
  },
  {
   "attachments": {},
   "cell_type": "markdown",
   "metadata": {},
   "source": [
    "4) En un ciclo for mostrar para los valores entre 0 y 5 el resultado de elevarlo a la potencia igual a 3"
   ]
  },
  {
   "cell_type": "code",
   "execution_count": 38,
   "metadata": {},
   "outputs": [
    {
     "name": "stdout",
     "output_type": "stream",
     "text": [
      "valor 0 elevado a la 3ra potencia da como resultado: 0\n",
      "valor 1 elevado a la 3ra potencia da como resultado: 1\n",
      "valor 2 elevado a la 3ra potencia da como resultado: 8\n",
      "valor 3 elevado a la 3ra potencia da como resultado: 27\n",
      "valor 4 elevado a la 3ra potencia da como resultado: 64\n",
      "valor 5 elevado a la 3ra potencia da como resultado: 125\n"
     ]
    }
   ],
   "source": [
    " for y in range(0,6):\n",
    "    print(\"valor\",str(y),\"elevado a la 3ra potencia da como resultado:\",str(y**3))"
   ]
  },
  {
   "attachments": {},
   "cell_type": "markdown",
   "metadata": {},
   "source": [
    "5) Crear una variable que contenga un número entero y realizar un ciclo for la misma cantidad de ciclos"
   ]
  },
  {
   "cell_type": "code",
   "execution_count": 46,
   "metadata": {},
   "outputs": [
    {
     "name": "stdout",
     "output_type": "stream",
     "text": [
      "9\n"
     ]
    }
   ],
   "source": [
    "c= 10\n",
    "for e in range(0, c):\n",
    "    pass\n",
    "print(e)"
   ]
  },
  {
   "attachments": {},
   "cell_type": "markdown",
   "metadata": {},
   "source": [
    "6) Utilizar un ciclo while para realizar el factorial de un número guardado en una variable, sólo si la variable contiene un número entero mayor a 0"
   ]
  },
  {
   "cell_type": "code",
   "execution_count": 17,
   "metadata": {},
   "outputs": [
    {
     "name": "stdout",
     "output_type": "stream",
     "text": [
      "El factorial es 120\n"
     ]
    }
   ],
   "source": [
    "n=5\n",
    "if (type(n) == int):\n",
    "    if(n>=0):\n",
    "        factorial = n\n",
    "        while (n>1):\n",
    "            n = n-1\n",
    "            factorial = factorial * n\n",
    "        print (\"El factorial es\", factorial )\n",
    "    else:\n",
    "        print(\"la variable no es mayr que cero\")\n",
    "else: \n",
    "    print(\"la variable no es un entero\")"
   ]
  },
  {
   "attachments": {},
   "cell_type": "markdown",
   "metadata": {},
   "source": [
    "7) Crear un ciclo for dentro de un ciclo while"
   ]
  },
  {
   "cell_type": "code",
   "execution_count": 49,
   "metadata": {},
   "outputs": [
    {
     "name": "stdout",
     "output_type": "stream",
     "text": [
      "ciclo while numero 1\n",
      "ciclo for numero 1\n",
      "ciclo while numero 2\n",
      "ciclo for numero 1\n",
      "ciclo for numero 2\n",
      "ciclo while numero 3\n",
      "ciclo for numero 1\n",
      "ciclo for numero 2\n",
      "ciclo for numero 3\n",
      "ciclo while numero 4\n",
      "ciclo for numero 1\n",
      "ciclo for numero 2\n",
      "ciclo for numero 3\n",
      "ciclo for numero 4\n"
     ]
    }
   ],
   "source": [
    "z=1\n",
    "while z<5:\n",
    "    print(\"ciclo while numero\",str(z))\n",
    "    for i in range(1, z+1):\n",
    "        print(\"ciclo for numero\", str(i))\n",
    "    z +=1\n",
    "    "
   ]
  },
  {
   "attachments": {},
   "cell_type": "markdown",
   "metadata": {},
   "source": [
    "8) Crear un ciclo while dentro de un ciclo for"
   ]
  },
  {
   "cell_type": "code",
   "execution_count": 62,
   "metadata": {},
   "outputs": [
    {
     "name": "stdout",
     "output_type": "stream",
     "text": [
      "ciclo for numero 1\n",
      "ciclo while numero 5\n",
      "ciclo while numero 4\n",
      "ciclo while numero 3\n",
      "ciclo while numero 2\n",
      "ciclo while numero 1\n",
      "ciclo for numero 2\n",
      "ciclo while numero 5\n",
      "ciclo while numero 4\n",
      "ciclo while numero 3\n",
      "ciclo while numero 2\n",
      "ciclo while numero 1\n",
      "ciclo for numero 3\n",
      "ciclo while numero 5\n",
      "ciclo while numero 4\n",
      "ciclo while numero 3\n",
      "ciclo while numero 2\n",
      "ciclo while numero 1\n",
      "ciclo for numero 4\n",
      "ciclo while numero 5\n",
      "ciclo while numero 4\n",
      "ciclo while numero 3\n",
      "ciclo while numero 2\n",
      "ciclo while numero 1\n"
     ]
    }
   ],
   "source": [
    "z = 5\n",
    "for i in range(1, z):\n",
    "    print(\"ciclo for numero\", str(i))\n",
    "    ntemp=z\n",
    "    while ntemp>0:\n",
    "        print(\"ciclo while numero\", str(ntemp))\n",
    "        ntemp -=1\n",
    "        if ntemp <= 0:\n",
    "            break\n",
    "\n",
    "\n"
   ]
  },
  {
   "attachments": {},
   "cell_type": "markdown",
   "metadata": {},
   "source": [
    "9) Imprimir los números primos existentes entre 0 y 30"
   ]
  },
  {
   "cell_type": "code",
   "execution_count": 67,
   "metadata": {},
   "outputs": [
    {
     "name": "stdout",
     "output_type": "stream",
     "text": [
      "0\n",
      "1\n",
      "2\n",
      "3\n",
      "5\n",
      "7\n",
      "11\n",
      "13\n",
      "17\n",
      "19\n",
      "23\n",
      "29\n"
     ]
    }
   ],
   "source": [
    "rango =30\n",
    "p=0\n",
    "primo = True\n",
    "while (p<rango):\n",
    "    for div in range(2,p):\n",
    "        if (p % div== 0):\n",
    "            primo = False\n",
    "    if (primo):\n",
    "        print(p)\n",
    "    else:\n",
    "        primo=True\n",
    "    p+=1\n"
   ]
  },
  {
   "attachments": {},
   "cell_type": "markdown",
   "metadata": {},
   "source": [
    "10) ¿Se puede mejorar el proceso del punto 9? Utilizar las sentencias break y/ó continue para tal fin"
   ]
  },
  {
   "cell_type": "code",
   "execution_count": 68,
   "metadata": {},
   "outputs": [
    {
     "name": "stdout",
     "output_type": "stream",
     "text": [
      "0\n",
      "1\n",
      "2\n",
      "3\n",
      "5\n",
      "7\n",
      "11\n",
      "13\n",
      "17\n",
      "19\n",
      "23\n",
      "29\n"
     ]
    }
   ],
   "source": [
    "rango =30\n",
    "p=0\n",
    "primo = True\n",
    "while (p<rango):\n",
    "    for div in range(2,p):\n",
    "        if (p % div== 0):\n",
    "            primo = False\n",
    "            break\n",
    "    if (primo):\n",
    "        print(p)\n",
    "    else:\n",
    "        primo=True\n",
    "    p+=1\n"
   ]
  },
  {
   "attachments": {},
   "cell_type": "markdown",
   "metadata": {},
   "source": [
    "11) En los puntos 9 y 10, se diseño un código que encuentra números primos y además se lo optimizó. ¿Es posible saber en qué medida se optimizó?"
   ]
  },
  {
   "cell_type": "code",
   "execution_count": 71,
   "metadata": {},
   "outputs": [
    {
     "name": "stdout",
     "output_type": "stream",
     "text": [
      "0\n",
      "1\n",
      "2\n",
      "3\n",
      "5\n",
      "7\n",
      "11\n",
      "13\n",
      "17\n",
      "19\n",
      "23\n",
      "29\n",
      "Cantidad de ciclos: 378\n"
     ]
    }
   ],
   "source": [
    "ciclos_sin_break = 0\n",
    "m = 0\n",
    "primo = True\n",
    "while (m < rango):\n",
    "    for div in range(2, m):\n",
    "        ciclos_sin_break += 1\n",
    "        if (m % div == 0):\n",
    "            primo = False\n",
    "    if (primo):\n",
    "        print(m)\n",
    "    else:\n",
    "        primo = True\n",
    "    m += 1\n",
    "print('Cantidad de ciclos: ' + str(ciclos_sin_break))"
   ]
  },
  {
   "attachments": {},
   "cell_type": "markdown",
   "metadata": {},
   "source": [
    "12) Aplicando continue, armar un ciclo while que solo imprima los valores divisibles por 12, dentro del rango de números de 100 a 300"
   ]
  },
  {
   "cell_type": "code",
   "execution_count": 82,
   "metadata": {},
   "outputs": [
    {
     "name": "stdout",
     "output_type": "stream",
     "text": [
      "108  es divisible por 12\n",
      "120  es divisible por 12\n",
      "132  es divisible por 12\n",
      "144  es divisible por 12\n",
      "156  es divisible por 12\n",
      "168  es divisible por 12\n",
      "180  es divisible por 12\n",
      "192  es divisible por 12\n",
      "204  es divisible por 12\n",
      "216  es divisible por 12\n",
      "228  es divisible por 12\n",
      "240  es divisible por 12\n",
      "252  es divisible por 12\n",
      "264  es divisible por 12\n",
      "276  es divisible por 12\n",
      "288  es divisible por 12\n",
      "300  es divisible por 12\n"
     ]
    }
   ],
   "source": [
    "n = 99\n",
    "while (n<= 300):\n",
    "    n += 1\n",
    "    if ( n % 12 != 0):\n",
    "        continue\n",
    "    print(n,\" es divisible por 12\")"
   ]
  },
  {
   "attachments": {},
   "cell_type": "markdown",
   "metadata": {},
   "source": [
    "13) Utilizar la función **input()** que permite hacer ingresos por teclado, para encontrar números primos y dar la opción al usario de buscar el siguiente"
   ]
  },
  {
   "cell_type": "code",
   "execution_count": 1,
   "metadata": {},
   "outputs": [
    {
     "name": "stdout",
     "output_type": "stream",
     "text": [
      "1\n",
      "¿Desea encontrar el siguiente número primo?\n"
     ]
    }
   ],
   "source": [
    "d = 1\n",
    "sigue = 1\n",
    "primo1 = True\n",
    "while (sigue == 1):\n",
    "    for div in range(2, d):\n",
    "        if (d % div == 0):\n",
    "            primo1 = False\n",
    "            break\n",
    "    if (primo1):\n",
    "        print(d)\n",
    "        print('¿Desea encontrar el siguiente número primo?')\n",
    "        if (input() != '1'):\n",
    "            print('Se finaliza el proceso')\n",
    "            break\n",
    "    else:\n",
    "        primo1 = True\n",
    "    d += 1\n"
   ]
  },
  {
   "attachments": {},
   "cell_type": "markdown",
   "metadata": {},
   "source": [
    "14) Crear un ciclo while que encuentre dentro del rango de 100 a 300 el primer número divisible por 3 y además múltiplo de 6"
   ]
  },
  {
   "cell_type": "code",
   "execution_count": 6,
   "metadata": {},
   "outputs": [
    {
     "name": "stdout",
     "output_type": "stream",
     "text": [
      "el numero es 102\n"
     ]
    }
   ],
   "source": [
    "n =100\n",
    "while(n<300):\n",
    "    if n%6 == 0:\n",
    "        print(\"el numero es\", n)\n",
    "        break\n",
    "    n += 1\n",
    "    "
   ]
  }
 ],
 "metadata": {
  "interpreter": {
   "hash": "c85384e4cb51c8b72350f3a8712cc8351fdc3955e32a27f9b60c6242ab125f01"
  },
  "kernelspec": {
   "display_name": "Python 3 (ipykernel)",
   "language": "python",
   "name": "python3"
  },
  "language_info": {
   "codemirror_mode": {
    "name": "ipython",
    "version": 3
   },
   "file_extension": ".py",
   "mimetype": "text/x-python",
   "name": "python",
   "nbconvert_exporter": "python",
   "pygments_lexer": "ipython3",
   "version": "3.12.0"
  }
 },
 "nbformat": 4,
 "nbformat_minor": 4
}
